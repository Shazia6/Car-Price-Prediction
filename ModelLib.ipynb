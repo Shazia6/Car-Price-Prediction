{
 "cells": [
  {
   "cell_type": "code",
   "execution_count": null,
   "metadata": {
    "id": "qrTpSUUFlx2k"
   },
   "outputs": [],
   "source": [
    "def build_model(X,y):\n",
    "  from sklearn.feature_selection import RFE\n",
    "  from sklearn.linear_model import LinearRegression\n",
    "  import statsmodels.api as sm \n",
    "  from statsmodels.stats.outliers_influence import variance_inflation_factor\n",
    "  X = sm.add_constant(X) #Adding the constant\n",
    "  lm = sm.OLS(y,X).fit() # fitting the model\n",
    "  print(lm.summary()) # model summary\n",
    "  return X\n",
    "    \n",
    "def myVIF(X):\n",
    "    vif = pd.DataFrame()\n",
    "    vif['Features'] = X.columns\n",
    "    vif['VIF'] = [variance_inflation_factor(X.values, i) for i in range(X.shape[1])]\n",
    "    vif['VIF'] = round(vif['VIF'], 2)\n",
    "    vif = vif.sort_values(by = \"VIF\", ascending = False)\n",
    "    return(vif)"
   ]
  }
 ],
 "metadata": {
  "colab": {
   "collapsed_sections": [],
   "name": "ModelLib.ipynb",
   "provenance": []
  },
  "kernelspec": {
   "display_name": "Python 3 (ipykernel)",
   "language": "python",
   "name": "python3"
  },
  "language_info": {
   "codemirror_mode": {
    "name": "ipython",
    "version": 3
   },
   "file_extension": ".py",
   "mimetype": "text/x-python",
   "name": "python",
   "nbconvert_exporter": "python",
   "pygments_lexer": "ipython3",
   "version": "3.9.7"
  }
 },
 "nbformat": 4,
 "nbformat_minor": 1
}
